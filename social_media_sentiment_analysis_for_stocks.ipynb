{
  "nbformat": 4,
  "nbformat_minor": 0,
  "metadata": {
    "colab": {
      "name": "social-media-sentiment-analysis-for-stocks.ipynb",
      "provenance": [],
      "collapsed_sections": [],
      "include_colab_link": true
    },
    "kernelspec": {
      "display_name": "Python 3",
      "name": "python3"
    },
    "language_info": {
      "name": "python"
    }
  },
  "cells": [
    {
      "cell_type": "markdown",
      "metadata": {
        "id": "view-in-github",
        "colab_type": "text"
      },
      "source": [
        "<a href=\"https://colab.research.google.com/github/HLTT14/social-media-sentiment-analysis-for-stocks/blob/main/social_media_sentiment_analysis_for_stocks.ipynb\" target=\"_parent\"><img src=\"https://colab.research.google.com/assets/colab-badge.svg\" alt=\"Open In Colab\"/></a>"
      ]
    },
    {
      "cell_type": "markdown",
      "metadata": {
        "id": "y_mjp51Muqzh"
      },
      "source": [
        "# **Social Meida Sentiment Analysis for Stocks**"
      ]
    },
    {
      "cell_type": "markdown",
      "metadata": {
        "id": "9aQCUZDAunLP"
      },
      "source": [
        "# Initialization"
      ]
    },
    {
      "cell_type": "code",
      "metadata": {
        "id": "xrFOFWnCvkYp"
      },
      "source": [
        "import pandas as pd\n",
        "import numpy as np\n",
        "import codecs"
      ],
      "execution_count": 95,
      "outputs": []
    },
    {
      "cell_type": "code",
      "metadata": {
        "colab": {
          "base_uri": "https://localhost:8080/"
        },
        "id": "53DE1WF8tMYy",
        "outputId": "de97ac5d-48dd-4c8a-b031-f9b96f7a56d1"
      },
      "source": [
        "!git clone https://github.com/HLTT14/social-media-sentiment-analysis-for-stocks.git"
      ],
      "execution_count": 2,
      "outputs": [
        {
          "output_type": "stream",
          "text": [
            "Cloning into 'social-media-sentiment-analysis-for-stocks'...\n",
            "remote: Enumerating objects: 18, done.\u001b[K\n",
            "remote: Counting objects: 100% (18/18), done.\u001b[K\n",
            "remote: Compressing objects: 100% (14/14), done.\u001b[K\n",
            "remote: Total 18 (delta 5), reused 13 (delta 2), pack-reused 0\u001b[K\n",
            "Unpacking objects: 100% (18/18), done.\n"
          ],
          "name": "stdout"
        }
      ]
    },
    {
      "cell_type": "code",
      "metadata": {
        "id": "u0xk14Hkufhu"
      },
      "source": [
        "!unzip -o -q /content/social-media-sentiment-analysis-for-stocks/data.zip"
      ],
      "execution_count": null,
      "outputs": []
    },
    {
      "cell_type": "code",
      "metadata": {
        "colab": {
          "base_uri": "https://localhost:8080/",
          "height": 204
        },
        "id": "GG84nyICvZIc",
        "outputId": "1330f791-9fd4-478c-f334-8e6e1259663a"
      },
      "source": [
        "tweets_df = pd.read_csv('/content/tweets_2.csv')\n",
        "tweets_df.head()"
      ],
      "execution_count": null,
      "outputs": [
        {
          "output_type": "execute_result",
          "data": {
            "text/html": [
              "<div>\n",
              "<style scoped>\n",
              "    .dataframe tbody tr th:only-of-type {\n",
              "        vertical-align: middle;\n",
              "    }\n",
              "\n",
              "    .dataframe tbody tr th {\n",
              "        vertical-align: top;\n",
              "    }\n",
              "\n",
              "    .dataframe thead th {\n",
              "        text-align: right;\n",
              "    }\n",
              "</style>\n",
              "<table border=\"1\" class=\"dataframe\">\n",
              "  <thead>\n",
              "    <tr style=\"text-align: right;\">\n",
              "      <th></th>\n",
              "      <th>content</th>\n",
              "    </tr>\n",
              "  </thead>\n",
              "  <tbody>\n",
              "    <tr>\n",
              "      <th>0</th>\n",
              "      <td>#پلاسک #پلوله #پدرخش دوستان این کاناله توی نلگ...</td>\n",
              "    </tr>\n",
              "    <tr>\n",
              "      <th>1</th>\n",
              "      <td>این سهم نفرین شده انگار . این که میگیم روی هدف...</td>\n",
              "    </tr>\n",
              "    <tr>\n",
              "      <th>2</th>\n",
              "      <td>#شاخص_بورس t</td>\n",
              "    </tr>\n",
              "    <tr>\n",
              "      <th>3</th>\n",
              "      <td>#غشهداب هفته ی دیگه رفتیم واسه فتح 700تومان</td>\n",
              "    </tr>\n",
              "    <tr>\n",
              "      <th>4</th>\n",
              "      <td>#تاپیکو\\n16 مرداد ریزش بازار پیش بینی کردم. 21...</td>\n",
              "    </tr>\n",
              "  </tbody>\n",
              "</table>\n",
              "</div>"
            ],
            "text/plain": [
              "                                             content\n",
              "0  #پلاسک #پلوله #پدرخش دوستان این کاناله توی نلگ...\n",
              "1  این سهم نفرین شده انگار . این که میگیم روی هدف...\n",
              "2                                       #شاخص_بورس t\n",
              "3        #غشهداب هفته ی دیگه رفتیم واسه فتح 700تومان\n",
              "4  #تاپیکو\\n16 مرداد ریزش بازار پیش بینی کردم. 21..."
            ]
          },
          "metadata": {
            "tags": []
          },
          "execution_count": 18
        }
      ]
    },
    {
      "cell_type": "code",
      "metadata": {
        "colab": {
          "base_uri": "https://localhost:8080/",
          "height": 204
        },
        "id": "nWOfIZkh1QSJ",
        "outputId": "acc6c327-209c-4461-de96-0265ed4696f3"
      },
      "source": [
        "stocks_df = pd.read_csv('/content/stocks.csv')\n",
        "stocks_df.head()"
      ],
      "execution_count": null,
      "outputs": [
        {
          "output_type": "execute_result",
          "data": {
            "text/html": [
              "<div>\n",
              "<style scoped>\n",
              "    .dataframe tbody tr th:only-of-type {\n",
              "        vertical-align: middle;\n",
              "    }\n",
              "\n",
              "    .dataframe tbody tr th {\n",
              "        vertical-align: top;\n",
              "    }\n",
              "\n",
              "    .dataframe thead th {\n",
              "        text-align: right;\n",
              "    }\n",
              "</style>\n",
              "<table border=\"1\" class=\"dataframe\">\n",
              "  <thead>\n",
              "    <tr style=\"text-align: right;\">\n",
              "      <th></th>\n",
              "      <th>name</th>\n",
              "    </tr>\n",
              "  </thead>\n",
              "  <tbody>\n",
              "    <tr>\n",
              "      <th>0</th>\n",
              "      <td>کلر</td>\n",
              "    </tr>\n",
              "    <tr>\n",
              "      <th>1</th>\n",
              "      <td>بمیلاح</td>\n",
              "    </tr>\n",
              "    <tr>\n",
              "      <th>2</th>\n",
              "      <td>وتوسمح</td>\n",
              "    </tr>\n",
              "    <tr>\n",
              "      <th>3</th>\n",
              "      <td>شستا</td>\n",
              "    </tr>\n",
              "    <tr>\n",
              "      <th>4</th>\n",
              "      <td>غدشت</td>\n",
              "    </tr>\n",
              "  </tbody>\n",
              "</table>\n",
              "</div>"
            ],
            "text/plain": [
              "     name\n",
              "0     کلر\n",
              "1  بمیلاح\n",
              "2  وتوسمح\n",
              "3    شستا\n",
              "4    غدشت"
            ]
          },
          "metadata": {
            "tags": []
          },
          "execution_count": 5
        }
      ]
    },
    {
      "cell_type": "code",
      "metadata": {
        "id": "OzS3TLTkOKyt"
      },
      "source": [
        "#datalist=list(tweets_df)\n",
        "postlist = tweets_df.values.tolist()\n",
        "stcoklist_main = stocks_df.values.tolist()\n",
        "stcoklist=[]\n",
        "us = {}\n",
        "for i in range(len(stcoklist_main)):\n",
        "  stcoklist.append(stcoklist_main[i][0])\n",
        "stcoklist = list(set(stcoklist))\n",
        "for i in range(len(stcoklist)):\n",
        "  us[stcoklist[i]]=0\n",
        "\n",
        "fulldata=[];cs=[]\n",
        "for i in range(0,len(postlist)): #range(len(postlist)):\n",
        "  words = str(postlist[i]).split(' ')\n",
        "  ut = 0;\n",
        "  for w in words:\n",
        "    if w in stcoklist:\n",
        "      ut += 1\n",
        "  select_word=''\n",
        "  if ut == 1:\n",
        "    for w in words:\n",
        "      if w!='ما' and w!='فردا':\n",
        "        if w in stcoklist and us[w]!=5:\n",
        "          us[w]= us[w] + 1\n",
        "          select_word = w;\n",
        "          cs.append(w);\n",
        "          break;\n",
        "    if select_word!='':\n",
        "      fulldata.append((postlist[i][0],select_word))"
      ],
      "execution_count": null,
      "outputs": []
    },
    {
      "cell_type": "code",
      "metadata": {
        "id": "2Td3zYgLhElB"
      },
      "source": [
        "#datalist=list(tweets_df)\n",
        "postlist = tweets_df.values.tolist()\n",
        "stcoklist_main = stocks_df.values.tolist()\n",
        "stcoklist=[]\n",
        "us = {}\n",
        "for i in range(len(stcoklist_main)):\n",
        "  stcoklist.append(stcoklist_main[i][0])\n",
        "stcoklist = list(set(stcoklist))\n",
        "for i in range(len(stcoklist)):\n",
        "  us[stcoklist[i]]=0\n",
        "\n",
        "fulldata=[];cs=[]\n",
        "for i in range(0,len(postlist)): #range(len(postlist)):\n",
        "  words = str(postlist[i]).split(' ')\n",
        "  ut = 0;\n",
        "  for w in words:\n",
        "    if w in stcoklist:\n",
        "      ut += 1\n",
        "  select_word=''\n",
        "  if ut == 1:\n",
        "    for w in words:\n",
        "      if w!='ما' and w!='فردا':\n",
        "        if w in stcoklist: #and us[w]!=5:\n",
        "          us[w]= us[w] + 1"
      ],
      "execution_count": null,
      "outputs": []
    },
    {
      "cell_type": "code",
      "metadata": {
        "id": "UgcOFzKnh3KP"
      },
      "source": [
        "bn=[];cn=[];dn=[]\n",
        "for i in stcoklist:\n",
        "  if us[i]>=20:\n",
        "    bn.append(i)\n",
        "    cn.append(us[i])\n",
        "    dn.append((i,us[i]))\n"
      ],
      "execution_count": null,
      "outputs": []
    },
    {
      "cell_type": "code",
      "metadata": {
        "id": "Vm9_FuoviKH2"
      },
      "source": [
        "sorted_list = sorted(dn, key=lambda x:x[1],reverse=True)\n"
      ],
      "execution_count": null,
      "outputs": []
    },
    {
      "cell_type": "code",
      "metadata": {
        "colab": {
          "base_uri": "https://localhost:8080/"
        },
        "id": "9zTtm6Avi7qo",
        "outputId": "49e9c036-4e74-443f-f51f-aeb8f4e069f0"
      },
      "source": [
        "sorted_list"
      ],
      "execution_count": null,
      "outputs": [
        {
          "output_type": "execute_result",
          "data": {
            "text/plain": [
              "[('بورس', 1935),\n",
              " ('دی', 736),\n",
              " ('ارزش', 663),\n",
              " ('امید', 570),\n",
              " ('خودرو', 476),\n",
              " ('ملت', 442),\n",
              " ('شستا', 437),\n",
              " ('شپنا', 372),\n",
              " ('برکت', 321),\n",
              " ('پالایش', 320),\n",
              " ('تصمیم', 260),\n",
              " ('فولاد', 212),\n",
              " ('کاما', 180),\n",
              " ('همراه', 174),\n",
              " ('اپال', 166),\n",
              " ('اعتماد', 164),\n",
              " ('اساس', 163),\n",
              " ('پرداخت', 142),\n",
              " ('اینده', 137),\n",
              " ('مدیر', 133),\n",
              " ('ثشاهد', 119),\n",
              " ('پترول', 118),\n",
              " ('فملی', 118),\n",
              " ('نوری', 117),\n",
              " ('دارا', 113),\n",
              " ('پتایر', 109),\n",
              " ('انتخاب', 107),\n",
              " ('کدما', 105),\n",
              " ('تجارت', 105),\n",
              " ('مدیریت', 102),\n",
              " ('وتجارت', 101),\n",
              " ('فریم', 99),\n",
              " ('تلیسه', 95),\n",
              " ('فارس', 87),\n",
              " ('صبا', 85),\n",
              " ('دانا', 84),\n",
              " ('خاور', 83),\n",
              " ('سیستم', 83),\n",
              " ('خساپا', 78),\n",
              " ('وسپهر', 76),\n",
              " ('دماوند', 75),\n",
              " ('سمگا', 75),\n",
              " ('شلرد', 74),\n",
              " ('جم', 73),\n",
              " ('شپلی', 72),\n",
              " ('شتران', 71),\n",
              " ('توسعه', 69),\n",
              " ('خگستر', 67),\n",
              " ('کرمان', 66),\n",
              " ('غگل', 63),\n",
              " ('غنوش', 62),\n",
              " ('غبهنوش', 62),\n",
              " ('ذوب', 62),\n",
              " ('خودکفا', 60),\n",
              " ('فاذر', 59),\n",
              " ('لکما', 58),\n",
              " ('فرابورس', 58),\n",
              " ('وملی', 57),\n",
              " ('شگویا', 56),\n",
              " ('خزر', 55),\n",
              " ('بکام', 53),\n",
              " ('الماس', 53),\n",
              " ('حکشتی', 52),\n",
              " ('گدنا', 50),\n",
              " ('قاسم', 50),\n",
              " ('کارا', 49),\n",
              " ('زشگزا', 49),\n",
              " ('سرو', 48),\n",
              " ('قرن', 46),\n",
              " ('حفاری', 46),\n",
              " ('فاسمین', 46),\n",
              " ('وپارس', 44),\n",
              " ('سبزوا', 43),\n",
              " ('پخش', 41),\n",
              " ('وبملت', 41),\n",
              " ('زاگرس', 41),\n",
              " ('زدشت', 40),\n",
              " ('سجام', 40),\n",
              " ('بوعلی', 39),\n",
              " ('قثابت', 39),\n",
              " ('وسدید', 39),\n",
              " ('گشان', 38),\n",
              " ('وخارزم', 38),\n",
              " ('بپیوند', 38),\n",
              " ('نوین', 37),\n",
              " ('فاراک', 36),\n",
              " ('بکهنوج', 36),\n",
              " ('خزامیا', 36),\n",
              " ('وبصادر', 36),\n",
              " ('سیتا', 36),\n",
              " ('البرز', 36),\n",
              " ('غفارس', 35),\n",
              " ('پارس', 35),\n",
              " ('کالا', 35),\n",
              " ('سپرده', 34),\n",
              " ('چکاپا', 34),\n",
              " ('شیران', 33),\n",
              " ('ونیکی', 33),\n",
              " ('مدار', 33),\n",
              " ('افق', 32),\n",
              " ('کترام', 32),\n",
              " ('فروی', 32),\n",
              " ('پارسیان', 32),\n",
              " ('لپارس', 32),\n",
              " ('قصفها', 32),\n",
              " ('کیسون', 32),\n",
              " ('ثفارس', 31),\n",
              " ('شبندر', 31),\n",
              " ('مادیرا', 31),\n",
              " ('وشهر', 31),\n",
              " ('پیزد', 31),\n",
              " ('کیا', 31),\n",
              " ('کسرا', 31),\n",
              " ('خصدرا', 31),\n",
              " ('ثنوسا', 31),\n",
              " ('پیشرفت', 30),\n",
              " ('غصینو', 28),\n",
              " ('بموتو', 28),\n",
              " ('بهپاک', 28),\n",
              " ('تاپیکو', 28),\n",
              " ('وصنعت', 28),\n",
              " ('دارو', 28),\n",
              " ('شپترو', 28),\n",
              " ('زمگسا', 28),\n",
              " ('غمینو', 27),\n",
              " ('کفپارس', 27),\n",
              " ('خکاوه', 27),\n",
              " ('کماسه', 27),\n",
              " ('بجهرم', 27),\n",
              " ('تست', 27),\n",
              " ('ثاخت', 27),\n",
              " ('ثامید', 27),\n",
              " ('ستران', 27),\n",
              " ('امین', 26),\n",
              " ('شاروم', 26),\n",
              " ('غسالم', 25),\n",
              " ('خپارس', 25),\n",
              " ('رفاه', 23),\n",
              " ('کویر', 23),\n",
              " ('غمارگ', 23),\n",
              " ('غپینو', 23),\n",
              " ('کوثر', 23),\n",
              " ('سامان', 22),\n",
              " ('ثاصفا', 22),\n",
              " ('تپکو', 22),\n",
              " ('بالاس', 22),\n",
              " ('غشهداب', 22),\n",
              " ('ودی', 22),\n",
              " ('قنیشا', 22),\n",
              " ('شفا', 21),\n",
              " ('وگردش', 20),\n",
              " ('حسینا', 20),\n",
              " ('فسرب', 20),\n",
              " ('ثروت', 20)]"
            ]
          },
          "metadata": {
            "tags": []
          },
          "execution_count": 14
        }
      ]
    },
    {
      "cell_type": "code",
      "metadata": {
        "id": "NGDWQZjXmsvc"
      },
      "source": [
        "fc=[]\n",
        "with open('1.txt','r',encoding='utf-8') as f:\n",
        "  fc=f.readlines()\n",
        "stock=[]\n",
        "for j in range(len(fc)):\n",
        "  if fc[j]!='\\n':\n",
        "    stock.append(fc[j].replace('\\n',''))\n"
      ],
      "execution_count": null,
      "outputs": []
    },
    {
      "cell_type": "code",
      "metadata": {
        "id": "SoM21GpSm_UU"
      },
      "source": [
        "#datalist=list(tweets_df)\n",
        "postlist = tweets_df.values.tolist()\n",
        "stcoklist_main = stocks_df.values.tolist()\n",
        "stcoklist=[]\n",
        "us = {}\n",
        "for i in range(len(stcoklist_main)):\n",
        "  stcoklist.append(stcoklist_main[i][0])\n",
        "stcoklist = list(set(stcoklist))\n",
        "\n",
        "us = {}\n",
        "for i in range(len(stock)):\n",
        "  us[stock[i]]=0\n",
        "\n",
        "fulldata=[];cs=[]\n",
        "for i in range(0,len(postlist)): #range(len(postlist)):\n",
        "  if len(postlist[i][0])<150:\n",
        "    words = str(postlist[i][0]).split(' ')\n",
        "    ut = 0;\n",
        "    for w in words:\n",
        "      if w in stcoklist:\n",
        "        ut += 1\n",
        "    select_word=''\n",
        "    if ut == 1:\n",
        "      for w in words:\n",
        "        if w in stock and us[w]!=60:\n",
        "            us[w]= us[w] + 1\n",
        "            select_word = w;\n",
        "            cs.append(w);\n",
        "    if select_word!='':\n",
        "      fulldata.append((postlist[i][0],select_word))"
      ],
      "execution_count": null,
      "outputs": []
    },
    {
      "cell_type": "code",
      "metadata": {
        "id": "Ih8_LOMWUVzW"
      },
      "source": [
        "postlist"
      ],
      "execution_count": null,
      "outputs": []
    },
    {
      "cell_type": "code",
      "metadata": {
        "id": "F5VUKdUGtz3f"
      },
      "source": [
        "def uniquex(text,stcoklist):\n",
        "  words = text.split(' ')\n",
        "  tf=0;fx='';vc=[]\n",
        "  for i in range(len(words)):\n",
        "    wd = str(words[i]).replace('#','')\n",
        "    if wd in stcoklist:\n",
        "      vc.append(wd)\n",
        "  \n",
        "  if len(list(set(vc)))>1:\n",
        "    return False\n",
        "  else:\n",
        "    return True"
      ],
      "execution_count": null,
      "outputs": []
    },
    {
      "cell_type": "code",
      "metadata": {
        "id": "SWBlrBmBtGW2"
      },
      "source": [
        "ta1 = pd.read_excel('/content/fulldataxx-arefi.xlsx')"
      ],
      "execution_count": null,
      "outputs": []
    },
    {
      "cell_type": "code",
      "metadata": {
        "id": "wvOpeLjVtPWS"
      },
      "source": [
        "s1=ta1.values.tolist()\n"
      ],
      "execution_count": null,
      "outputs": []
    },
    {
      "cell_type": "code",
      "metadata": {
        "id": "Y9zsTHDWw7L8"
      },
      "source": [
        "us = {}\n",
        "for i in range(len(stcoklist)):\n",
        "  us[stcoklist[i]]=0"
      ],
      "execution_count": null,
      "outputs": []
    },
    {
      "cell_type": "code",
      "metadata": {
        "id": "tL1Vpj2hpSFD"
      },
      "source": [
        "newdata=[]\n",
        "for i in range(len(fulldata)):\n",
        "  tf=1;\n",
        "  for j in range(len(s1)):\n",
        "    ns1 = s1[j][0] ; ns2 = s1[j][1] ; ns3=s1[j][2];\n",
        "    if fulldata[i][0]==ns2:\n",
        "      tf=0\n",
        "  if uniquex(fulldata[i][0],stcoklist)==True and tf==1:\n",
        "    ns3 = fulldata[i][1]\n",
        "    if ns3!= 'کارا' and ns3!= 'پیشرفت' and ns3!='سپرده'and ns3!= 'سامان' and ns3!='سپاس' and ns3!='پخش' and ns3!='پارسیان' : \n",
        "      us[ns3] = us[ns3] + 1\n",
        "      newdata.append(fulldata[i])\n"
      ],
      "execution_count": null,
      "outputs": []
    },
    {
      "cell_type": "code",
      "metadata": {
        "id": "E4tFW4r6pb89",
        "colab": {
          "base_uri": "https://localhost:8080/"
        },
        "outputId": "5b0d8250-3007-415a-d3fc-c52b45bc0778"
      },
      "source": [
        "len(newdata)"
      ],
      "execution_count": null,
      "outputs": [
        {
          "output_type": "execute_result",
          "data": {
            "text/plain": [
              "2413"
            ]
          },
          "metadata": {
            "tags": []
          },
          "execution_count": 22
        }
      ]
    },
    {
      "cell_type": "code",
      "metadata": {
        "colab": {
          "base_uri": "https://localhost:8080/",
          "height": 232
        },
        "id": "2XXP3SemxKAC",
        "outputId": "2e5abb99-24bc-45d0-a813-ff6817650bc4"
      },
      "source": [
        "bn=[];cn=[];dn=[]\n",
        "for i in stcoklist:\n",
        "  bn.append(i)\n",
        "  cn.append(us[i])\n",
        "  dn.append((i,us[i]))\n",
        "sorted_list = sorted(dn, key=lambda x:x[1],reverse=True)\n",
        "sorted_list"
      ],
      "execution_count": null,
      "outputs": [
        {
          "output_type": "error",
          "ename": "KeyError",
          "evalue": "ignored",
          "traceback": [
            "\u001b[0;31m---------------------------------------------------------------------------\u001b[0m",
            "\u001b[0;31mKeyError\u001b[0m                                  Traceback (most recent call last)",
            "\u001b[0;32m<ipython-input-24-a1977bc3a71a>\u001b[0m in \u001b[0;36m<module>\u001b[0;34m()\u001b[0m\n\u001b[1;32m      2\u001b[0m \u001b[0;32mfor\u001b[0m \u001b[0mi\u001b[0m \u001b[0;32min\u001b[0m \u001b[0mstcoklist\u001b[0m\u001b[0;34m:\u001b[0m\u001b[0;34m\u001b[0m\u001b[0;34m\u001b[0m\u001b[0m\n\u001b[1;32m      3\u001b[0m   \u001b[0mbn\u001b[0m\u001b[0;34m.\u001b[0m\u001b[0mappend\u001b[0m\u001b[0;34m(\u001b[0m\u001b[0mi\u001b[0m\u001b[0;34m)\u001b[0m\u001b[0;34m\u001b[0m\u001b[0;34m\u001b[0m\u001b[0m\n\u001b[0;32m----> 4\u001b[0;31m   \u001b[0mcn\u001b[0m\u001b[0;34m.\u001b[0m\u001b[0mappend\u001b[0m\u001b[0;34m(\u001b[0m\u001b[0mus\u001b[0m\u001b[0;34m[\u001b[0m\u001b[0mi\u001b[0m\u001b[0;34m]\u001b[0m\u001b[0;34m)\u001b[0m\u001b[0;34m\u001b[0m\u001b[0;34m\u001b[0m\u001b[0m\n\u001b[0m\u001b[1;32m      5\u001b[0m   \u001b[0mdn\u001b[0m\u001b[0;34m.\u001b[0m\u001b[0mappend\u001b[0m\u001b[0;34m(\u001b[0m\u001b[0;34m(\u001b[0m\u001b[0mi\u001b[0m\u001b[0;34m,\u001b[0m\u001b[0mus\u001b[0m\u001b[0;34m[\u001b[0m\u001b[0mi\u001b[0m\u001b[0;34m]\u001b[0m\u001b[0;34m)\u001b[0m\u001b[0;34m)\u001b[0m\u001b[0;34m\u001b[0m\u001b[0;34m\u001b[0m\u001b[0m\n\u001b[1;32m      6\u001b[0m \u001b[0msorted_list\u001b[0m \u001b[0;34m=\u001b[0m \u001b[0msorted\u001b[0m\u001b[0;34m(\u001b[0m\u001b[0mdn\u001b[0m\u001b[0;34m,\u001b[0m \u001b[0mkey\u001b[0m\u001b[0;34m=\u001b[0m\u001b[0;32mlambda\u001b[0m \u001b[0mx\u001b[0m\u001b[0;34m:\u001b[0m\u001b[0mx\u001b[0m\u001b[0;34m[\u001b[0m\u001b[0;36m1\u001b[0m\u001b[0;34m]\u001b[0m\u001b[0;34m,\u001b[0m\u001b[0mreverse\u001b[0m\u001b[0;34m=\u001b[0m\u001b[0;32mTrue\u001b[0m\u001b[0;34m)\u001b[0m\u001b[0;34m\u001b[0m\u001b[0;34m\u001b[0m\u001b[0m\n",
            "\u001b[0;31mKeyError\u001b[0m: 'ثالوندح'"
          ]
        }
      ]
    },
    {
      "cell_type": "code",
      "metadata": {
        "colab": {
          "base_uri": "https://localhost:8080/",
          "height": 35
        },
        "id": "uA6FjQV6u6g_",
        "outputId": "0eb5dea4-2e7d-4303-ea90-2afba6e7bc30"
      },
      "source": [
        "ns2"
      ],
      "execution_count": null,
      "outputs": [
        {
          "output_type": "execute_result",
          "data": {
            "application/vnd.google.colaboratory.intrinsic+json": {
              "type": "string"
            },
            "text/plain": [
              "'#ثاخت رفت برا حمایت بعدی ۱۵۰ تومن😔اگه حمایتی باشه پول من رو که تموم کرد صاحب شرکت ثاخت فقط ببینم ما...د...ر..شو.......😡'"
            ]
          },
          "metadata": {
            "tags": []
          },
          "execution_count": 69
        }
      ]
    },
    {
      "cell_type": "code",
      "metadata": {
        "id": "7UWEpEm4jUKW"
      },
      "source": [
        "df = pd.DataFrame(newdata)\n",
        "df.to_csv('newdata.csv',encoding='utf-8-sig')\n"
      ],
      "execution_count": null,
      "outputs": []
    },
    {
      "cell_type": "code",
      "metadata": {
        "id": "gFSDRZmrqQaW"
      },
      "source": [
        "df.to_pickle(\"newdata.pkl\")"
      ],
      "execution_count": null,
      "outputs": []
    },
    {
      "cell_type": "code",
      "metadata": {
        "colab": {
          "base_uri": "https://localhost:8080/"
        },
        "id": "KgPlHLE9YJfH",
        "outputId": "d4f7f270-15d1-4918-8267-7abe4c8fe00e"
      },
      "source": [
        "len(stcoklist)"
      ],
      "execution_count": null,
      "outputs": [
        {
          "output_type": "execute_result",
          "data": {
            "text/plain": [
              "1561"
            ]
          },
          "metadata": {
            "tags": []
          },
          "execution_count": 71
        }
      ]
    },
    {
      "cell_type": "code",
      "metadata": {
        "colab": {
          "base_uri": "https://localhost:8080/"
        },
        "id": "2q-3Ioz4U8G3",
        "outputId": "345c524e-31a8-4d0d-b6af-562136f3855b"
      },
      "source": [
        "len(fulldata)"
      ],
      "execution_count": null,
      "outputs": [
        {
          "output_type": "execute_result",
          "data": {
            "text/plain": [
              "2421"
            ]
          },
          "metadata": {
            "tags": []
          },
          "execution_count": 82
        }
      ]
    },
    {
      "cell_type": "code",
      "metadata": {
        "colab": {
          "base_uri": "https://localhost:8080/"
        },
        "id": "qcGGtnDmP6-s",
        "outputId": "989fc76b-f8fb-474e-a239-afa92d21fd7d"
      },
      "source": [
        "len(list(set(cs)))"
      ],
      "execution_count": null,
      "outputs": [
        {
          "output_type": "execute_result",
          "data": {
            "text/plain": [
              "654"
            ]
          },
          "metadata": {
            "tags": []
          },
          "execution_count": 81
        }
      ]
    },
    {
      "cell_type": "code",
      "metadata": {
        "colab": {
          "base_uri": "https://localhost:8080/",
          "height": 204
        },
        "id": "g0dVk9rseuTv",
        "outputId": "4b7fe838-6d91-4c36-b47e-b70fc85dbc08"
      },
      "source": [
        "df = pd.DataFrame(fulldata)\n",
        "df.head()"
      ],
      "execution_count": null,
      "outputs": [
        {
          "output_type": "execute_result",
          "data": {
            "text/html": [
              "<div>\n",
              "<style scoped>\n",
              "    .dataframe tbody tr th:only-of-type {\n",
              "        vertical-align: middle;\n",
              "    }\n",
              "\n",
              "    .dataframe tbody tr th {\n",
              "        vertical-align: top;\n",
              "    }\n",
              "\n",
              "    .dataframe thead th {\n",
              "        text-align: right;\n",
              "    }\n",
              "</style>\n",
              "<table border=\"1\" class=\"dataframe\">\n",
              "  <thead>\n",
              "    <tr style=\"text-align: right;\">\n",
              "      <th></th>\n",
              "      <th>0</th>\n",
              "      <th>1</th>\n",
              "    </tr>\n",
              "  </thead>\n",
              "  <tbody>\n",
              "    <tr>\n",
              "      <th>0</th>\n",
              "      <td># بوعلی ۱</td>\n",
              "      <td>بوعلی</td>\n",
              "    </tr>\n",
              "    <tr>\n",
              "      <th>1</th>\n",
              "      <td>#برکت امروز هم حمید درخشان واکسن برکت رو زد</td>\n",
              "      <td>برکت</td>\n",
              "    </tr>\n",
              "    <tr>\n",
              "      <th>2</th>\n",
              "      <td>#داوه \\nحمایت داوه در محدوده ی ۱۴۲۰۰﷼.\\nسه شنب...</td>\n",
              "      <td>داوه</td>\n",
              "    </tr>\n",
              "    <tr>\n",
              "      <th>3</th>\n",
              "      <td>#برکت \\nبالاخره افشا الف برکت روی کدال قرار گر...</td>\n",
              "      <td>برکت</td>\n",
              "    </tr>\n",
              "    <tr>\n",
              "      <th>4</th>\n",
              "      <td>به نظر من سقف تاریخی کرمان حباب نبوده و حقش بو...</td>\n",
              "      <td>کرمان</td>\n",
              "    </tr>\n",
              "  </tbody>\n",
              "</table>\n",
              "</div>"
            ],
            "text/plain": [
              "                                                   0      1\n",
              "0                                          # بوعلی ۱  بوعلی\n",
              "1        #برکت امروز هم حمید درخشان واکسن برکت رو زد   برکت\n",
              "2  #داوه \\nحمایت داوه در محدوده ی ۱۴۲۰۰﷼.\\nسه شنب...   داوه\n",
              "3  #برکت \\nبالاخره افشا الف برکت روی کدال قرار گر...   برکت\n",
              "4  به نظر من سقف تاریخی کرمان حباب نبوده و حقش بو...  کرمان"
            ]
          },
          "metadata": {
            "tags": []
          },
          "execution_count": 80
        }
      ]
    },
    {
      "cell_type": "code",
      "metadata": {
        "id": "Gpd-IsLBe9sQ"
      },
      "source": [
        "df.to_csv('dataset.csv',encoding='utf-8-sig')\n"
      ],
      "execution_count": null,
      "outputs": []
    },
    {
      "cell_type": "code",
      "metadata": {
        "colab": {
          "background_save": true
        },
        "id": "k1JUaP1HgJsV"
      },
      "source": [
        "df.to_pickle(\"dataset.pkl\")"
      ],
      "execution_count": null,
      "outputs": []
    },
    {
      "cell_type": "code",
      "metadata": {
        "id": "PbAjItW2h9HN"
      },
      "source": [
        "load = pd.read_pickle(\"dataset.pkl\")"
      ],
      "execution_count": null,
      "outputs": []
    },
    {
      "cell_type": "markdown",
      "metadata": {
        "id": "eiVwyPG6ysr0"
      },
      "source": [
        "# Convert labeled data to XML"
      ]
    },
    {
      "cell_type": "markdown",
      "metadata": {
        "id": "_NsV01316kPZ"
      },
      "source": [
        "## Prepare data"
      ]
    },
    {
      "cell_type": "code",
      "metadata": {
        "id": "Dq_9Oax5zCqK"
      },
      "source": [
        "!unzip -o -q /content/social-media-sentiment-analysis-for-stocks/labeled_data.zip"
      ],
      "execution_count": 3,
      "outputs": []
    },
    {
      "cell_type": "code",
      "metadata": {
        "colab": {
          "base_uri": "https://localhost:8080/",
          "height": 202
        },
        "id": "n8WFelPjzQjL",
        "outputId": "978e5f33-e231-4217-f267-43b66cf13d89"
      },
      "source": [
        "df = pd.read_excel('/content/concat_v1.xlsx')\n",
        "df.head()"
      ],
      "execution_count": 43,
      "outputs": [
        {
          "output_type": "execute_result",
          "data": {
            "text/html": [
              "<div>\n",
              "<style scoped>\n",
              "    .dataframe tbody tr th:only-of-type {\n",
              "        vertical-align: middle;\n",
              "    }\n",
              "\n",
              "    .dataframe tbody tr th {\n",
              "        vertical-align: top;\n",
              "    }\n",
              "\n",
              "    .dataframe thead th {\n",
              "        text-align: right;\n",
              "    }\n",
              "</style>\n",
              "<table border=\"1\" class=\"dataframe\">\n",
              "  <thead>\n",
              "    <tr style=\"text-align: right;\">\n",
              "      <th></th>\n",
              "      <th>Unnamed: 0</th>\n",
              "      <th>0</th>\n",
              "      <th>1</th>\n",
              "      <th>2</th>\n",
              "      <th>3</th>\n",
              "    </tr>\n",
              "  </thead>\n",
              "  <tbody>\n",
              "    <tr>\n",
              "      <th>0</th>\n",
              "      <td>0</td>\n",
              "      <td>535</td>\n",
              "      <td>#پترول شرکت معظم پترول بالاخره تونست بعد 10 ما...</td>\n",
              "      <td>پترول</td>\n",
              "      <td>+</td>\n",
              "    </tr>\n",
              "    <tr>\n",
              "      <th>1</th>\n",
              "      <td>1</td>\n",
              "      <td>2</td>\n",
              "      <td>#برکت \\nبالاخره افشا الف برکت روی کدال قرار گر...</td>\n",
              "      <td>برکت</td>\n",
              "      <td>+</td>\n",
              "    </tr>\n",
              "    <tr>\n",
              "      <th>2</th>\n",
              "      <td>2</td>\n",
              "      <td>538</td>\n",
              "      <td>این بنده خدا منتظر بود فملی برسه به ۶۵۰ تومان....</td>\n",
              "      <td>فملی</td>\n",
              "      <td>-</td>\n",
              "    </tr>\n",
              "    <tr>\n",
              "      <th>3</th>\n",
              "      <td>3</td>\n",
              "      <td>4</td>\n",
              "      <td>اومد دیگه \\nاز ۱۰۰۰ تومن رفت ۱۴۰۰\\n۴۰ درصد سود...</td>\n",
              "      <td>شستا</td>\n",
              "      <td>+</td>\n",
              "    </tr>\n",
              "    <tr>\n",
              "      <th>4</th>\n",
              "      <td>4</td>\n",
              "      <td>5</td>\n",
              "      <td>شما به اینا میگی منفی؟\\nشپنا و شتران استارت بع...</td>\n",
              "      <td>شتران</td>\n",
              "      <td>+</td>\n",
              "    </tr>\n",
              "  </tbody>\n",
              "</table>\n",
              "</div>"
            ],
            "text/plain": [
              "   Unnamed: 0    0                                                  1      2  3\n",
              "0           0  535  #پترول شرکت معظم پترول بالاخره تونست بعد 10 ما...  پترول  +\n",
              "1           1    2  #برکت \\nبالاخره افشا الف برکت روی کدال قرار گر...   برکت  +\n",
              "2           2  538  این بنده خدا منتظر بود فملی برسه به ۶۵۰ تومان....   فملی  -\n",
              "3           3    4  اومد دیگه \\nاز ۱۰۰۰ تومن رفت ۱۴۰۰\\n۴۰ درصد سود...   شستا  +\n",
              "4           4    5  شما به اینا میگی منفی؟\\nشپنا و شتران استارت بع...  شتران  +"
            ]
          },
          "metadata": {
            "tags": []
          },
          "execution_count": 43
        }
      ]
    },
    {
      "cell_type": "code",
      "metadata": {
        "colab": {
          "base_uri": "https://localhost:8080/",
          "height": 202
        },
        "id": "AWpKVfPV6Txq",
        "outputId": "937d11d0-bdfe-491d-8d98-22a9e7c88fa3"
      },
      "source": [
        "df.drop(['Unnamed: 0', 0], axis=1, inplace=True)\n",
        "df.columns = ['text', 'aspect', 'polarity']\n",
        "df['polarity'] = df['polarity'].map({'+':'positive', '-':'negative', 0:'neutral'})\n",
        "df.head()"
      ],
      "execution_count": 44,
      "outputs": [
        {
          "output_type": "execute_result",
          "data": {
            "text/html": [
              "<div>\n",
              "<style scoped>\n",
              "    .dataframe tbody tr th:only-of-type {\n",
              "        vertical-align: middle;\n",
              "    }\n",
              "\n",
              "    .dataframe tbody tr th {\n",
              "        vertical-align: top;\n",
              "    }\n",
              "\n",
              "    .dataframe thead th {\n",
              "        text-align: right;\n",
              "    }\n",
              "</style>\n",
              "<table border=\"1\" class=\"dataframe\">\n",
              "  <thead>\n",
              "    <tr style=\"text-align: right;\">\n",
              "      <th></th>\n",
              "      <th>text</th>\n",
              "      <th>aspect</th>\n",
              "      <th>polarity</th>\n",
              "    </tr>\n",
              "  </thead>\n",
              "  <tbody>\n",
              "    <tr>\n",
              "      <th>0</th>\n",
              "      <td>#پترول شرکت معظم پترول بالاخره تونست بعد 10 ما...</td>\n",
              "      <td>پترول</td>\n",
              "      <td>positive</td>\n",
              "    </tr>\n",
              "    <tr>\n",
              "      <th>1</th>\n",
              "      <td>#برکت \\nبالاخره افشا الف برکت روی کدال قرار گر...</td>\n",
              "      <td>برکت</td>\n",
              "      <td>positive</td>\n",
              "    </tr>\n",
              "    <tr>\n",
              "      <th>2</th>\n",
              "      <td>این بنده خدا منتظر بود فملی برسه به ۶۵۰ تومان....</td>\n",
              "      <td>فملی</td>\n",
              "      <td>negative</td>\n",
              "    </tr>\n",
              "    <tr>\n",
              "      <th>3</th>\n",
              "      <td>اومد دیگه \\nاز ۱۰۰۰ تومن رفت ۱۴۰۰\\n۴۰ درصد سود...</td>\n",
              "      <td>شستا</td>\n",
              "      <td>positive</td>\n",
              "    </tr>\n",
              "    <tr>\n",
              "      <th>4</th>\n",
              "      <td>شما به اینا میگی منفی؟\\nشپنا و شتران استارت بع...</td>\n",
              "      <td>شتران</td>\n",
              "      <td>positive</td>\n",
              "    </tr>\n",
              "  </tbody>\n",
              "</table>\n",
              "</div>"
            ],
            "text/plain": [
              "                                                text aspect  polarity\n",
              "0  #پترول شرکت معظم پترول بالاخره تونست بعد 10 ما...  پترول  positive\n",
              "1  #برکت \\nبالاخره افشا الف برکت روی کدال قرار گر...   برکت  positive\n",
              "2  این بنده خدا منتظر بود فملی برسه به ۶۵۰ تومان....   فملی  negative\n",
              "3  اومد دیگه \\nاز ۱۰۰۰ تومن رفت ۱۴۰۰\\n۴۰ درصد سود...   شستا  positive\n",
              "4  شما به اینا میگی منفی؟\\nشپنا و شتران استارت بع...  شتران  positive"
            ]
          },
          "metadata": {
            "tags": []
          },
          "execution_count": 44
        }
      ]
    },
    {
      "cell_type": "markdown",
      "metadata": {
        "id": "466oaHn587s5"
      },
      "source": [
        "## Partition data"
      ]
    },
    {
      "cell_type": "markdown",
      "metadata": {
        "id": "gnEqii2fK9Ka"
      },
      "source": [
        "We will shuffle the whole dataset first and then split our dataset into the following parts:\n",
        "\n",
        "60% - train set\n",
        "\n",
        "20% - validation set\n",
        "\n",
        "20% - test set"
      ]
    },
    {
      "cell_type": "code",
      "metadata": {
        "id": "wbZmEdM-I6oy"
      },
      "source": [
        "train, validate, test =  np.split(df.sample(frac=1, random_state=42), [int(.6*len(df)), int(.8*len(df))])"
      ],
      "execution_count": 90,
      "outputs": []
    },
    {
      "cell_type": "markdown",
      "metadata": {
        "id": "V_AwNB1f8pch"
      },
      "source": [
        "## Convert data"
      ]
    },
    {
      "cell_type": "code",
      "metadata": {
        "id": "JGEL2nWS2zTd"
      },
      "source": [
        "def convert_dataframe_to_xml(df, file_name):\n",
        "  xml_template = '''\n",
        "  <?xml version=\"1.0\" encoding=\"utf-8\"?>\n",
        "  <sentences>\n",
        "  {}\n",
        "  </sentences>\n",
        "  '''\n",
        "  sentence_template = '''\n",
        "    <sentence>\n",
        "      <text>{}</text>\n",
        "      <aspectTerms>\n",
        "      {}\n",
        "      </aspectTerms>\n",
        "    </sentence>\n",
        "  '''\n",
        "  aspect_template = '''\n",
        "        <aspectTerm from=\"{}\" polarity=\"{}\" term=\"{}\" to=\"{}\"/>\n",
        "  '''\n",
        "  \n",
        "  sentences_str = ''\n",
        "\n",
        "  for row in df.itertuples():\n",
        "    aspects = row.aspect.split(',')\n",
        "    polarities = row.polarity.split(',')\n",
        "    aspects_str = ''\n",
        "\n",
        "    for i, aspect in enumerate(aspects): \n",
        "      from_ = row.text.find(row.aspect)\n",
        "      to = from_ + len(aspect)\n",
        "      aspect_str = aspect_template.format(from_, polarities[i], aspect, to)\n",
        "      aspects_str += aspect_str\n",
        "\n",
        "    sentence_str = sentence_template.format(row.text, aspects_str)\n",
        "    sentences_str += sentence_str\n",
        "\n",
        "  xml_str = xml_template.format(sentences_str)\n",
        "  file = codecs.open(file_name + '.xml', 'w', 'utf-8')\n",
        "  file.write(xml_str)\n",
        "  file.close()"
      ],
      "execution_count": 110,
      "outputs": []
    },
    {
      "cell_type": "markdown",
      "metadata": {
        "id": "0WljqwrHHFzM"
      },
      "source": [
        "## Store converted data"
      ]
    },
    {
      "cell_type": "code",
      "metadata": {
        "id": "RG89l2njMxhR"
      },
      "source": [
        "convert_dataframe_to_xml(train, \"train\")\n",
        "convert_dataframe_to_xml(validate, \"val\")\n",
        "convert_dataframe_to_xml(test, \"test\")"
      ],
      "execution_count": 112,
      "outputs": []
    }
  ]
}